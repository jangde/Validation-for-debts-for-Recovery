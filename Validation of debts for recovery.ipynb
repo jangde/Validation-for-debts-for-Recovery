{
  "nbformat": 4,
  "nbformat_minor": 0,
  "metadata": {
    "kernelspec": {
      "name": "python3",
      "display_name": "Python 3",
      "language": "python"
    },
    "language_info": {
      "name": "python",
      "version": "3.6.7",
      "mimetype": "text/x-python",
      "codemirror_mode": {
        "name": "ipython",
        "version": 3
      },
      "pygments_lexer": "ipython3",
      "nbconvert_exporter": "python",
      "file_extension": ".py"
    },
    "colab": {
      "name": "notebook.ipynb",
      "provenance": []
    }
  },
  "cells": [
    {
      "cell_type": "code",
      "metadata": {
        "dc": {
          "key": "4"
        },
        "tags": [
          "sample_code"
        ],
        "trusted": true,
        "id": "j2Ey-_f6JiwM",
        "colab_type": "code",
        "colab": {
          "base_uri": "https://localhost:8080/",
          "height": 202
        },
        "outputId": "3501eb4c-db27-4d29-d02a-a9fde3c51aa1"
      },
      "source": [
        "import pandas as pd\n",
        "import numpy as np\n",
        "\n",
        "\n",
        "# Read in dataset\n",
        "df = pd.read_csv(\"bank_data.csv\")\n",
        "\n",
        "# Printing the first few rows of the DataFrame\n",
        "df.head()"
      ],
      "execution_count": 2,
      "outputs": [
        {
          "output_type": "execute_result",
          "data": {
            "text/html": [
              "<div>\n",
              "<style scoped>\n",
              "    .dataframe tbody tr th:only-of-type {\n",
              "        vertical-align: middle;\n",
              "    }\n",
              "\n",
              "    .dataframe tbody tr th {\n",
              "        vertical-align: top;\n",
              "    }\n",
              "\n",
              "    .dataframe thead th {\n",
              "        text-align: right;\n",
              "    }\n",
              "</style>\n",
              "<table border=\"1\" class=\"dataframe\">\n",
              "  <thead>\n",
              "    <tr style=\"text-align: right;\">\n",
              "      <th></th>\n",
              "      <th>id</th>\n",
              "      <th>expected_recovery_amount</th>\n",
              "      <th>actual_recovery_amount</th>\n",
              "      <th>recovery_strategy</th>\n",
              "      <th>age</th>\n",
              "      <th>sex</th>\n",
              "    </tr>\n",
              "  </thead>\n",
              "  <tbody>\n",
              "    <tr>\n",
              "      <th>0</th>\n",
              "      <td>2030</td>\n",
              "      <td>194</td>\n",
              "      <td>263.540</td>\n",
              "      <td>Level 0 Recovery</td>\n",
              "      <td>19</td>\n",
              "      <td>Male</td>\n",
              "    </tr>\n",
              "    <tr>\n",
              "      <th>1</th>\n",
              "      <td>1150</td>\n",
              "      <td>486</td>\n",
              "      <td>416.090</td>\n",
              "      <td>Level 0 Recovery</td>\n",
              "      <td>25</td>\n",
              "      <td>Female</td>\n",
              "    </tr>\n",
              "    <tr>\n",
              "      <th>2</th>\n",
              "      <td>380</td>\n",
              "      <td>527</td>\n",
              "      <td>429.350</td>\n",
              "      <td>Level 0 Recovery</td>\n",
              "      <td>27</td>\n",
              "      <td>Male</td>\n",
              "    </tr>\n",
              "    <tr>\n",
              "      <th>3</th>\n",
              "      <td>1838</td>\n",
              "      <td>536</td>\n",
              "      <td>296.990</td>\n",
              "      <td>Level 0 Recovery</td>\n",
              "      <td>25</td>\n",
              "      <td>Male</td>\n",
              "    </tr>\n",
              "    <tr>\n",
              "      <th>4</th>\n",
              "      <td>1995</td>\n",
              "      <td>541</td>\n",
              "      <td>346.385</td>\n",
              "      <td>Level 0 Recovery</td>\n",
              "      <td>34</td>\n",
              "      <td>Male</td>\n",
              "    </tr>\n",
              "  </tbody>\n",
              "</table>\n",
              "</div>"
            ],
            "text/plain": [
              "     id  expected_recovery_amount  ...  age     sex\n",
              "0  2030                       194  ...   19    Male\n",
              "1  1150                       486  ...   25  Female\n",
              "2   380                       527  ...   27    Male\n",
              "3  1838                       536  ...   25    Male\n",
              "4  1995                       541  ...   34    Male\n",
              "\n",
              "[5 rows x 6 columns]"
            ]
          },
          "metadata": {
            "tags": []
          },
          "execution_count": 2
        }
      ]
    },
    {
      "cell_type": "code",
      "metadata": {
        "dc": {
          "key": "11"
        },
        "tags": [
          "sample_code"
        ],
        "trusted": true,
        "id": "nddYD-wyJiwR",
        "colab_type": "code",
        "colab": {},
        "outputId": "65a4d752-6f1e-4c4d-cf97-505f8d2ffa62"
      },
      "source": [
        "# Scatter plot of Age vs. Expected Recovery Amount\n",
        "from matplotlib import pyplot as plt\n",
        "%matplotlib inline\n",
        "plt.scatter(x=df['expected_recovery_amount'], y=df['age'], c=\"g\", s=2)\n",
        "plt.xlim(0, 2000)\n",
        "plt.ylim(0, 60)\n",
        "plt.xlabel(\"Expected Recovery amount\")\n",
        "plt.ylabel(\"Age\")\n",
        "plt.legend(loc=2)"
      ],
      "execution_count": 0,
      "outputs": [
        {
          "output_type": "execute_result",
          "data": {
            "text/plain": [
              "<matplotlib.legend.Legend at 0x7f0ff1685cc0>"
            ]
          },
          "metadata": {
            "tags": []
          },
          "execution_count": 4
        },
        {
          "output_type": "display_data",
          "data": {
            "text/plain": [
              "<Figure size 432x288 with 1 Axes>"
            ],
            "image/png": "[encoded data removed]"
          },
          "metadata": {
            "tags": [],
            "needs_background": "light"
          }
        }
      ]
    },
    {
      "cell_type": "code",
      "metadata": {
        "dc": {
          "key": "18"
        },
        "tags": [
          "sample_code"
        ],
        "trusted": true,
        "id": "hVM6hMJfJiwV",
        "colab_type": "code",
        "colab": {},
        "outputId": "e07fc3f9-2e11-442e-b295-6effc5daf4c7"
      },
      "source": [
        "# Importing stats module\n",
        "from scipy import stats\n",
        "\n",
        "# Compute average age just below and above the threshold\n",
        "era_900_1100 = df.loc[(df['expected_recovery_amount']<1100) & \n",
        "                      (df['expected_recovery_amount']>=900)]\n",
        "by_recovery_strategy = era_900_1100.groupby(['recovery_strategy'])\n",
        "by_recovery_strategy['age'].describe().unstack()\n",
        "\n",
        "# Perform Kruskal-Wallis test \n",
        "Level_0_age = era_900_1100.loc[df['recovery_strategy']==\"Level 0 Recovery\"]['age']\n",
        "Level_1_age = era_900_1100.loc[df['recovery_strategy']==\"Level 1 Recovery\"]['age']\n",
        "\n",
        "stats.kruskal(Level_0_age,Level_1_age) "
      ],
      "execution_count": 0,
      "outputs": [
        {
          "output_type": "execute_result",
          "data": {
            "text/plain": [
              "KruskalResult(statistic=3.4572342749517513, pvalue=0.06297556896097407)"
            ]
          },
          "metadata": {
            "tags": []
          },
          "execution_count": 6
        }
      ]
    },
    {
      "cell_type": "code",
      "metadata": {
        "dc": {
          "key": "26"
        },
        "tags": [
          "sample_code"
        ],
        "trusted": true,
        "id": "8QwV0s4RJiwa",
        "colab_type": "code",
        "colab": {},
        "outputId": "8326d166-83b3-4a53-c82d-9fd12f82008d"
      },
      "source": [
        "# Number of customers in each category\n",
        "crosstab = pd.crosstab(df.loc[(df['expected_recovery_amount']<1100) & \n",
        "                              (df['expected_recovery_amount']>=900)]['recovery_strategy'], \n",
        "                       df['sex'])\n",
        "print(crosstab)\n",
        "\n",
        "# Chi-square test\n",
        "chi2_stat, p_val, dof, ex = stats.chi2_contingency(crosstab)\n",
        "print(p_val)"
      ],
      "execution_count": 0,
      "outputs": [
        {
          "output_type": "stream",
          "text": [
            "sex                Female  Male\n",
            "recovery_strategy              \n",
            "Level 0 Recovery       32    57\n",
            "Level 1 Recovery       39    55\n",
            "0.5377947810444592\n"
          ],
          "name": "stdout"
        }
      ]
    },
    {
      "cell_type": "code",
      "metadata": {
        "dc": {
          "key": "33"
        },
        "tags": [
          "sample_code"
        ],
        "trusted": true,
        "id": "dNR1uV51Jiwe",
        "colab_type": "code",
        "colab": {},
        "outputId": "1511db51-7039-41ea-e675-ad2a5e63b6f7"
      },
      "source": [
        "# Scatter plot of Actual Recovery Amount vs. Expected Recovery Amount \n",
        "plt.scatter(x=df['expected_recovery_amount'], y=df['actual_recovery_amount'], c=\"r\", s=2)\n",
        "plt.xlim(900, 1100)\n",
        "plt.ylim(0, 2000)\n",
        "plt.xlabel(\"Expected Recovery Amount\")\n",
        "plt.ylabel(\"Actual Recovery  Amount\")\n",
        "plt.legend(loc=2)\n",
        "plt.show()"
      ],
      "execution_count": 0,
      "outputs": [
        {
          "output_type": "display_data",
          "data": {
            "text/plain": [
              "<Figure size 432x288 with 1 Axes>"
            ],
            "image/png": "[encoded data removed]"
          },
          "metadata": {
            "tags": [],
            "needs_background": "light"
          }
        }
      ]
    },
    {
      "cell_type": "code",
      "metadata": {
        "dc": {
          "key": "40"
        },
        "tags": [
          "sample_code"
        ],
        "trusted": true,
        "id": "p9LbOtEXJiwj",
        "colab_type": "code",
        "colab": {},
        "outputId": "7ceac7fc-35cd-4d90-a9cd-cddde903463a"
      },
      "source": [
        "# Compute average actual recovery amount just below and above the threshold\n",
        "by_recovery_strategy['actual_recovery_amount'].describe().unstack()\n",
        "\n",
        "# Perform Kruskal-Wallis test\n",
        "Level_0_actual = era_900_1100.loc[df['recovery_strategy']=='Level 0 Recovery']['actual_recovery_amount']\n",
        "Level_1_actual = era_900_1100.loc[df['recovery_strategy']=='Level 1 Recovery']['actual_recovery_amount']\n",
        "stats.kruskal(Level_0_actual,Level_1_actual) \n",
        "\n",
        "# Repeat for a smaller range of $950 to $1050\n",
        "era_950_1050 = df.loc[(df['expected_recovery_amount']<1050) & \n",
        "                      (df['expected_recovery_amount']>=950)]\n",
        "Level_0_actual = era_950_1050.loc[df[\"recovery_strategy\"]==\"Level 0 Recovery\"][\"actual_recovery_amount\"]\n",
        "Level_1_actual = era_950_1050.loc[df[\"recovery_strategy\"]==\"Level 1 Recovery\"][\"actual_recovery_amount\"]\n",
        "\n",
        "stats.kruskal(Level_0_actual,Level_1_actual)\n",
        "print(era_900_1100)\n"
      ],
      "execution_count": 0,
      "outputs": [
        {
          "output_type": "stream",
          "text": [
            "       id  expected_recovery_amount  actual_recovery_amount recovery_strategy  \\\n",
            "158   520                       900              504.790000  Level 0 Recovery   \n",
            "159  1036                       900              539.535000  Level 0 Recovery   \n",
            "160  1383                       900              554.745000  Level 0 Recovery   \n",
            "161   998                       901              887.005000  Level 0 Recovery   \n",
            "162  1351                       903              667.035000  Level 0 Recovery   \n",
            "163  2028                       905              586.960000  Level 0 Recovery   \n",
            "164  1943                       906              874.560000  Level 0 Recovery   \n",
            "165   559                       907              317.335000  Level 0 Recovery   \n",
            "166  1675                       908              625.550000  Level 0 Recovery   \n",
            "167  1297                       911              520.775000  Level 0 Recovery   \n",
            "168  1157                       912              773.650000  Level 0 Recovery   \n",
            "169  1685                       913              756.855000  Level 0 Recovery   \n",
            "170  1951                       914              556.530000  Level 0 Recovery   \n",
            "171   806                       917              793.730000  Level 0 Recovery   \n",
            "172   954                       918              575.435000  Level 0 Recovery   \n",
            "173   963                       918              645.595000  Level 0 Recovery   \n",
            "174  1976                       918              307.525000  Level 0 Recovery   \n",
            "175  1052                       919              541.475000  Level 0 Recovery   \n",
            "176  1364                       919              544.040000  Level 0 Recovery   \n",
            "177  1257                       920              500.230000  Level 0 Recovery   \n",
            "178   877                       926              615.935000  Level 0 Recovery   \n",
            "179  1033                       931              801.885000  Level 0 Recovery   \n",
            "180   468                       932              325.535000  Level 0 Recovery   \n",
            "181  1508                       932              409.770000  Level 0 Recovery   \n",
            "182   248                       937              494.495000  Level 0 Recovery   \n",
            "183  1550                       938              964.390000  Level 0 Recovery   \n",
            "184  1744                       938              754.710000  Level 0 Recovery   \n",
            "185  1403                       940              806.940000  Level 0 Recovery   \n",
            "186   930                       941              792.370000  Level 0 Recovery   \n",
            "187   926                       943              770.280000  Level 0 Recovery   \n",
            "..    ...                       ...                     ...               ...   \n",
            "311  1170                      1071              665.359320  Level 1 Recovery   \n",
            "312  1775                      1072              769.281986  Level 1 Recovery   \n",
            "313  1845                      1072              433.199166  Level 1 Recovery   \n",
            "314    52                      1073             1053.353862  Level 1 Recovery   \n",
            "315  1340                      1075              956.349452  Level 1 Recovery   \n",
            "316  1625                      1076              938.147490  Level 1 Recovery   \n",
            "317  1815                      1076              980.974341  Level 1 Recovery   \n",
            "318   410                      1077             1013.650883  Level 1 Recovery   \n",
            "319  1097                      1077             1138.293180  Level 1 Recovery   \n",
            "320  1466                      1078             1072.344742  Level 1 Recovery   \n",
            "321  1649                      1078             1150.060622  Level 1 Recovery   \n",
            "322  1127                      1079             1160.405490  Level 1 Recovery   \n",
            "323  1812                      1080              862.900154  Level 1 Recovery   \n",
            "324   440                      1081              815.554741  Level 1 Recovery   \n",
            "325  1633                      1084              627.451870  Level 1 Recovery   \n",
            "326  1842                      1084              759.235536  Level 1 Recovery   \n",
            "327   284                      1085              962.208074  Level 1 Recovery   \n",
            "328  1621                      1085              664.541050  Level 1 Recovery   \n",
            "329  1912                      1086              908.044553  Level 1 Recovery   \n",
            "330  2043                      1086             1280.870775  Level 1 Recovery   \n",
            "331  1547                      1088              994.908982  Level 1 Recovery   \n",
            "332    88                      1091             1135.175607  Level 1 Recovery   \n",
            "333  1957                      1091              806.137773  Level 1 Recovery   \n",
            "334   732                      1092              728.436374  Level 1 Recovery   \n",
            "335  1637                      1092             1028.513414  Level 1 Recovery   \n",
            "336  1184                      1096             1077.218384  Level 1 Recovery   \n",
            "337  1664                      1096             2053.290126  Level 1 Recovery   \n",
            "338   302                      1098              876.997775  Level 1 Recovery   \n",
            "339   554                      1098             1836.918718  Level 1 Recovery   \n",
            "340  1501                      1099             1277.630578  Level 1 Recovery   \n",
            "\n",
            "     age     sex  \n",
            "158   34    Male  \n",
            "159   34  Female  \n",
            "160   24    Male  \n",
            "161   32    Male  \n",
            "162   28    Male  \n",
            "163   35  Female  \n",
            "164   29    Male  \n",
            "165   21    Male  \n",
            "166   26    Male  \n",
            "167   18    Male  \n",
            "168   29  Female  \n",
            "169   27    Male  \n",
            "170   23    Male  \n",
            "171   26    Male  \n",
            "172   30    Male  \n",
            "173   35    Male  \n",
            "174   24    Male  \n",
            "175   31    Male  \n",
            "176   23    Male  \n",
            "177   27    Male  \n",
            "178   32    Male  \n",
            "179   31    Male  \n",
            "180   19  Female  \n",
            "181   30    Male  \n",
            "182   23  Female  \n",
            "183   34    Male  \n",
            "184   26  Female  \n",
            "185   22    Male  \n",
            "186   20  Female  \n",
            "187   35    Male  \n",
            "..   ...     ...  \n",
            "311   24    Male  \n",
            "312   31  Female  \n",
            "313   25    Male  \n",
            "314   29    Male  \n",
            "315   35    Male  \n",
            "316   29  Female  \n",
            "317   33    Male  \n",
            "318   22    Male  \n",
            "319   27  Female  \n",
            "320   26    Male  \n",
            "321   26  Female  \n",
            "322   29  Female  \n",
            "323   28    Male  \n",
            "324   33    Male  \n",
            "325   27    Male  \n",
            "326   30    Male  \n",
            "327   22  Female  \n",
            "328   34  Female  \n",
            "329   31  Female  \n",
            "330   23  Female  \n",
            "331   26    Male  \n",
            "332   21    Male  \n",
            "333   31  Female  \n",
            "334   21    Male  \n",
            "335   19    Male  \n",
            "336   38    Male  \n",
            "337   18  Female  \n",
            "338   34    Male  \n",
            "339   26  Female  \n",
            "340   42  Female  \n",
            "\n",
            "[183 rows x 6 columns]\n"
          ],
          "name": "stdout"
        }
      ]
    },
    {
      "cell_type": "code",
      "metadata": {
        "dc": {
          "key": "48"
        },
        "tags": [
          "sample_code"
        ],
        "scrolled": true,
        "trusted": true,
        "id": "N5x6uitOJiwm",
        "colab_type": "code",
        "colab": {},
        "outputId": "d7977100-8fca-4f15-f946-2745d43871c1"
      },
      "source": [
        "# Import statsmodels\n",
        "import statsmodels.api as sm\n",
        "\n",
        "# Define X and y\n",
        "X = era_900_1100.iloc[:,1]\n",
        "y = era_900_1100.iloc[:,2]\n",
        "X = sm.add_constant(X)\n",
        "\n",
        "# Build linear regression model\n",
        "model = sm.OLS(y, X).fit()\n",
        "predictions = model.predict(X)\n",
        "\n",
        "# Print out the model summary statistics\n",
        "print(model.summary())"
      ],
      "execution_count": 0,
      "outputs": [
        {
          "output_type": "stream",
          "text": [
            "                              OLS Regression Results                              \n",
            "==================================================================================\n",
            "Dep. Variable:     actual_recovery_amount   R-squared:                       0.261\n",
            "Model:                                OLS   Adj. R-squared:                  0.256\n",
            "Method:                     Least Squares   F-statistic:                     63.78\n",
            "Date:                    Mon, 03 Feb 2020   Prob (F-statistic):           1.56e-13\n",
            "Time:                            10:28:49   Log-Likelihood:                -1278.9\n",
            "No. Observations:                     183   AIC:                             2562.\n",
            "Df Residuals:                         181   BIC:                             2568.\n",
            "Df Model:                               1                                         \n",
            "Covariance Type:                nonrobust                                         \n",
            "============================================================================================\n",
            "                               coef    std err          t      P>|t|      [0.025      0.975]\n",
            "--------------------------------------------------------------------------------------------\n",
            "const                    -1978.7597    347.741     -5.690      0.000   -2664.907   -1292.612\n",
            "expected_recovery_amount     2.7577      0.345      7.986      0.000       2.076       3.439\n",
            "==============================================================================\n",
            "Omnibus:                       64.493   Durbin-Watson:                   1.777\n",
            "Prob(Omnibus):                  0.000   Jarque-Bera (JB):              185.818\n",
            "Skew:                           1.463   Prob(JB):                     4.47e-41\n",
            "Kurtosis:                       6.977   Cond. No.                     1.80e+04\n",
            "==============================================================================\n",
            "\n",
            "Warnings:\n",
            "[1] Standard Errors assume that the covariance matrix of the errors is correctly specified.\n",
            "[2] The condition number is large, 1.8e+04. This might indicate that there are\n",
            "strong multicollinearity or other numerical problems.\n"
          ],
          "name": "stdout"
        }
      ]
    },
    {
      "cell_type": "code",
      "metadata": {
        "dc": {
          "key": "55"
        },
        "tags": [
          "sample_code"
        ],
        "trusted": true,
        "id": "7rh15bWeJiwq",
        "colab_type": "code",
        "colab": {},
        "outputId": "bbe87ded-7642-4942-df80-e05c06f50b9c"
      },
      "source": [
        "# Create indicator (0 or 1) for expected recovery amount >= $1000\n",
        "df['indicator_1000'] = np.where(df['expected_recovery_amount']<1000, 0, 1)\n",
        "era_900_1100 = df.loc[(df['expected_recovery_amount']<1100) & \n",
        "                      (df['expected_recovery_amount']>=900)]\n",
        "\n",
        "# Define X and y\n",
        "X = era_900_1100[[\"expected_recovery_amount\", \"indicator_1000\"]]\n",
        "y = era_900_1100[\"actual_recovery_amount\"]\n",
        "X = sm.add_constant(X)\n",
        "\n",
        "# Build linear regression model\n",
        "model = sm.OLS(y,X).fit()\n",
        "\n",
        "print(model.summary())"
      ],
      "execution_count": 0,
      "outputs": [
        {
          "output_type": "stream",
          "text": [
            "                              OLS Regression Results                              \n",
            "==================================================================================\n",
            "Dep. Variable:     actual_recovery_amount   R-squared:                       0.314\n",
            "Model:                                OLS   Adj. R-squared:                  0.307\n",
            "Method:                     Least Squares   F-statistic:                     41.22\n",
            "Date:                    Mon, 03 Feb 2020   Prob (F-statistic):           1.83e-15\n",
            "Time:                            10:28:49   Log-Likelihood:                -1272.0\n",
            "No. Observations:                     183   AIC:                             2550.\n",
            "Df Residuals:                         180   BIC:                             2560.\n",
            "Df Model:                               2                                         \n",
            "Covariance Type:                nonrobust                                         \n",
            "============================================================================================\n",
            "                               coef    std err          t      P>|t|      [0.025      0.975]\n",
            "--------------------------------------------------------------------------------------------\n",
            "const                        3.3440    626.274      0.005      0.996   -1232.440    1239.128\n",
            "expected_recovery_amount     0.6430      0.655      0.981      0.328      -0.650       1.936\n",
            "indicator_1000             277.6344     74.043      3.750      0.000     131.530     423.739\n",
            "==============================================================================\n",
            "Omnibus:                       65.977   Durbin-Watson:                   1.906\n",
            "Prob(Omnibus):                  0.000   Jarque-Bera (JB):              186.537\n",
            "Skew:                           1.510   Prob(JB):                     3.12e-41\n",
            "Kurtosis:                       6.917   Cond. No.                     3.37e+04\n",
            "==============================================================================\n",
            "\n",
            "Warnings:\n",
            "[1] Standard Errors assume that the covariance matrix of the errors is correctly specified.\n",
            "[2] The condition number is large, 3.37e+04. This might indicate that there are\n",
            "strong multicollinearity or other numerical problems.\n"
          ],
          "name": "stdout"
        }
      ]
    },
    {
      "cell_type": "code",
      "metadata": {
        "dc": {
          "key": "62"
        },
        "tags": [
          "sample_code"
        ],
        "trusted": true,
        "id": "S4SWxDTAJiwu",
        "colab_type": "code",
        "colab": {},
        "outputId": "7530b4c3-921a-4716-9a9a-b26ccb397548"
      },
      "source": [
        "# Redefine era_950_1050 so the indicator variable is included\n",
        "era_950_1050 = df.loc[(df['expected_recovery_amount']<1050) & \n",
        "                      (df['expected_recovery_amount']>=950)]\n",
        "\n",
        "# Define X and y \n",
        "X = era_950_1050[['expected_recovery_amount','indicator_1000']]\n",
        "y = era_950_1050['actual_recovery_amount']\n",
        "X = sm.add_constant(X)\n",
        "\n",
        "# Build linear regression model\n",
        "model = sm.OLS(y,X).fit()\n",
        "\n",
        "# Print the model summary\n",
        "model.summary()"
      ],
      "execution_count": 0,
      "outputs": [
        {
          "output_type": "execute_result",
          "data": {
            "text/plain": [
              "<class 'statsmodels.iolib.summary.Summary'>\n",
              "\"\"\"\n",
              "                              OLS Regression Results                              \n",
              "==================================================================================\n",
              "Dep. Variable:     actual_recovery_amount   R-squared:                       0.283\n",
              "Model:                                OLS   Adj. R-squared:                  0.269\n",
              "Method:                     Least Squares   F-statistic:                     18.99\n",
              "Date:                    Mon, 03 Feb 2020   Prob (F-statistic):           1.12e-07\n",
              "Time:                            10:28:49   Log-Likelihood:                -692.92\n",
              "No. Observations:                      99   AIC:                             1392.\n",
              "Df Residuals:                          96   BIC:                             1400.\n",
              "Df Model:                               2                                         \n",
              "Covariance Type:                nonrobust                                         \n",
              "============================================================================================\n",
              "                               coef    std err          t      P>|t|      [0.025      0.975]\n",
              "--------------------------------------------------------------------------------------------\n",
              "const                     -279.5243   1840.707     -0.152      0.880   -3933.298    3374.250\n",
              "expected_recovery_amount     0.9189      1.886      0.487      0.627      -2.825       4.663\n",
              "indicator_1000             286.5337    111.352      2.573      0.012      65.502     507.566\n",
              "==============================================================================\n",
              "Omnibus:                       39.302   Durbin-Watson:                   1.955\n",
              "Prob(Omnibus):                  0.000   Jarque-Bera (JB):               82.258\n",
              "Skew:                           1.564   Prob(JB):                     1.37e-18\n",
              "Kurtosis:                       6.186   Cond. No.                     6.81e+04\n",
              "==============================================================================\n",
              "\n",
              "Warnings:\n",
              "[1] Standard Errors assume that the covariance matrix of the errors is correctly specified.\n",
              "[2] The condition number is large, 6.81e+04. This might indicate that there are\n",
              "strong multicollinearity or other numerical problems.\n",
              "\"\"\""
            ],
            "text/html": [
              "<table class=\"simpletable\">\n",
              "<caption>OLS Regression Results</caption>\n",
              "<tr>\n",
              "  <th>Dep. Variable:</th>    <td>actual_recovery_amount</td> <th>  R-squared:         </th> <td>   0.283</td>\n",
              "</tr>\n",
              "<tr>\n",
              "  <th>Model:</th>                      <td>OLS</td>          <th>  Adj. R-squared:    </th> <td>   0.269</td>\n",
              "</tr>\n",
              "<tr>\n",
              "  <th>Method:</th>                <td>Least Squares</td>     <th>  F-statistic:       </th> <td>   18.99</td>\n",
              "</tr>\n",
              "<tr>\n",
              "  <th>Date:</th>                <td>Mon, 03 Feb 2020</td>    <th>  Prob (F-statistic):</th> <td>1.12e-07</td>\n",
              "</tr>\n",
              "<tr>\n",
              "  <th>Time:</th>                    <td>10:28:49</td>        <th>  Log-Likelihood:    </th> <td> -692.92</td>\n",
              "</tr>\n",
              "<tr>\n",
              "  <th>No. Observations:</th>         <td>    99</td>         <th>  AIC:               </th> <td>   1392.</td>\n",
              "</tr>\n",
              "<tr>\n",
              "  <th>Df Residuals:</th>             <td>    96</td>         <th>  BIC:               </th> <td>   1400.</td>\n",
              "</tr>\n",
              "<tr>\n",
              "  <th>Df Model:</th>                 <td>     2</td>         <th>                     </th>     <td> </td>   \n",
              "</tr>\n",
              "<tr>\n",
              "  <th>Covariance Type:</th>         <td>nonrobust</td>       <th>                     </th>     <td> </td>   \n",
              "</tr>\n",
              "</table>\n",
              "<table class=\"simpletable\">\n",
              "<tr>\n",
              "              <td></td>                <th>coef</th>     <th>std err</th>      <th>t</th>      <th>P>|t|</th>  <th>[0.025</th>    <th>0.975]</th>  \n",
              "</tr>\n",
              "<tr>\n",
              "  <th>const</th>                    <td> -279.5243</td> <td> 1840.707</td> <td>   -0.152</td> <td> 0.880</td> <td>-3933.298</td> <td> 3374.250</td>\n",
              "</tr>\n",
              "<tr>\n",
              "  <th>expected_recovery_amount</th> <td>    0.9189</td> <td>    1.886</td> <td>    0.487</td> <td> 0.627</td> <td>   -2.825</td> <td>    4.663</td>\n",
              "</tr>\n",
              "<tr>\n",
              "  <th>indicator_1000</th>           <td>  286.5337</td> <td>  111.352</td> <td>    2.573</td> <td> 0.012</td> <td>   65.502</td> <td>  507.566</td>\n",
              "</tr>\n",
              "</table>\n",
              "<table class=\"simpletable\">\n",
              "<tr>\n",
              "  <th>Omnibus:</th>       <td>39.302</td> <th>  Durbin-Watson:     </th> <td>   1.955</td>\n",
              "</tr>\n",
              "<tr>\n",
              "  <th>Prob(Omnibus):</th> <td> 0.000</td> <th>  Jarque-Bera (JB):  </th> <td>  82.258</td>\n",
              "</tr>\n",
              "<tr>\n",
              "  <th>Skew:</th>          <td> 1.564</td> <th>  Prob(JB):          </th> <td>1.37e-18</td>\n",
              "</tr>\n",
              "<tr>\n",
              "  <th>Kurtosis:</th>      <td> 6.186</td> <th>  Cond. No.          </th> <td>6.81e+04</td>\n",
              "</tr>\n",
              "</table><br/><br/>Warnings:<br/>[1] Standard Errors assume that the covariance matrix of the errors is correctly specified.<br/>[2] The condition number is large, 6.81e+04. This might indicate that there are<br/>strong multicollinearity or other numerical problems."
            ]
          },
          "metadata": {
            "tags": []
          },
          "execution_count": 18
        }
      ]
    }
  ]
}